{
 "cells": [
  {
   "cell_type": "code",
   "execution_count": 38,
   "outputs": [
    {
     "data": {
      "text/plain": "<spacy_langdetect.spacy_langdetect.LanguageDetector at 0x159e55a20>"
     },
     "execution_count": 38,
     "metadata": {},
     "output_type": "execute_result"
    }
   ],
   "source": [
    "from spacy import Language\n",
    "import glob\n",
    "import pprint\n",
    "import re\n",
    "import os\n",
    "\n",
    "import lxml.etree\n",
    "from lxml import etree\n",
    "from lxml.etree import XMLSyntaxError\n",
    "import pandas as pd\n",
    "import numpy as np\n",
    "import spacy\n",
    "from spacy_langdetect import LanguageDetector\n",
    "\n",
    "@Language.factory('language_detector')\n",
    "def language_detector(nlp, name):\n",
    "    return LanguageDetector()\n",
    "\n",
    "NLP = spacy.load('de_core_news_sm')\n",
    "NLP.add_pipe('language_detector')"
   ],
   "metadata": {
    "collapsed": false,
    "pycharm": {
     "name": "#%%\n"
    }
   }
  },
  {
   "cell_type": "code",
   "execution_count": 45,
   "outputs": [],
   "source": [
    "NAMESPACE: dict = {'tei': 'http://www.tei-c.org/ns/1.0'}\n",
    "SAVINGS_PATH: str = '../data/plain-text/'\n",
    "\n",
    "if not os.path.exists(SAVINGS_PATH):\n",
    "    os.makedirs(SAVINGS_PATH)"
   ],
   "metadata": {
    "collapsed": false,
    "pycharm": {
     "name": "#%%\n"
    }
   }
  },
  {
   "cell_type": "code",
   "execution_count": 49,
   "outputs": [],
   "source": [
    "def get_letter_text(path='../data/*.xml'):\n",
    "\n",
    "    for file in glob.glob(pathname=path)[:200]:\n",
    "        try:\n",
    "            tree = etree.parse(file)\n",
    "\n",
    "            letter_output: str = \"\"\n",
    "\n",
    "            for text in tree.xpath('//tei:text//tei:body//text()', namespaces=NAMESPACE):\n",
    "                text = text.lower()\n",
    "                if re.match(r'.*\\[.*].*', text):\n",
    "                    letter_output += re.sub(r'\\[.*]', '', text) + ' '\n",
    "                elif 'beyliegendes von' or 'paginierung des editors' in text:\n",
    "                    letter_output += re.sub(r'beyliegendes von|paginierung des editors', '', text) + ' '\n",
    "                else:\n",
    "                    letter_output += re.sub(r'^(0[1-9]|[12][0-9]|3[01])[.](0[1-9]|1[012])[.](19|20)[0-9]{2}', ' ', text) + ' '\n",
    "\n",
    "            letter_output = re.sub('\\s{2,}', ' ', letter_output.lstrip())\n",
    "            letter_output = re.sub('[^\\w\\s\\d]|_', '', letter_output)\n",
    "\n",
    "\n",
    "            doc = NLP(letter_output)\n",
    "            if doc._.language['language'] == 'de':\n",
    "                with open(SAVINGS_PATH + re.sub(r'\\.xml', '.txt', os.path.basename(file)), 'w') as f_tbw:\n",
    "                    f_tbw.write(letter_output)\n",
    "\n",
    "        except XMLSyntaxError:\n",
    "            pass\n",
    "\n"
   ],
   "metadata": {
    "collapsed": false,
    "pycharm": {
     "name": "#%%\n"
    }
   }
  },
  {
   "cell_type": "code",
   "execution_count": 50,
   "outputs": [],
   "source": [
    "get_letter_text()"
   ],
   "metadata": {
    "collapsed": false,
    "pycharm": {
     "name": "#%%\n"
    }
   }
  },
  {
   "cell_type": "code",
   "execution_count": 58,
   "outputs": [],
   "source": [
    "from textblob_de import TextBlobDE"
   ],
   "metadata": {
    "collapsed": false,
    "pycharm": {
     "name": "#%%\n"
    }
   }
  },
  {
   "cell_type": "code",
   "execution_count": 82,
   "outputs": [],
   "source": [
    "sentiment_dict: dict = {}\n",
    "\n",
    "for file in glob.glob('../data/plain-text/*.txt')[:]:\n",
    "    with open(file, 'r') as f:\n",
    "        text = f.read()\n",
    "        letter_blob = TextBlobDE(text)\n",
    "        sentiment_dict[os.path.basename(file)] = letter_blob.sentiment\n",
    "\n",
    "s_df = pd.DataFrame.from_dict(sentiment_dict).transpose()\n",
    "s_df.index.names = ['filename']\n",
    "s_df.rename(columns={0: 'polarity', 1: 'subjectivity'}, inplace=True)\n",
    "s_df.to_csv('../data/retrieved/sentiments.csv')\n"
   ],
   "metadata": {
    "collapsed": false,
    "pycharm": {
     "name": "#%%\n"
    }
   }
  },
  {
   "cell_type": "code",
   "execution_count": 71,
   "outputs": [],
   "source": [],
   "metadata": {
    "collapsed": false,
    "pycharm": {
     "name": "#%%\n"
    }
   }
  },
  {
   "cell_type": "code",
   "execution_count": null,
   "outputs": [],
   "source": [],
   "metadata": {
    "collapsed": false,
    "pycharm": {
     "name": "#%%\n"
    }
   }
  }
 ],
 "metadata": {
  "kernelspec": {
   "display_name": "Python 3",
   "language": "python",
   "name": "python3"
  },
  "language_info": {
   "codemirror_mode": {
    "name": "ipython",
    "version": 2
   },
   "file_extension": ".py",
   "mimetype": "text/x-python",
   "name": "python",
   "nbconvert_exporter": "python",
   "pygments_lexer": "ipython2",
   "version": "2.7.6"
  }
 },
 "nbformat": 4,
 "nbformat_minor": 0
}