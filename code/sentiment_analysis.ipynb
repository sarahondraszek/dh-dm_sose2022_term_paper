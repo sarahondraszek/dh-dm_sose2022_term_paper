{
 "cells": [
  {
   "cell_type": "code",
   "execution_count": 2,
   "outputs": [
    {
     "data": {
      "text/plain": "<spacy_langdetect.spacy_langdetect.LanguageDetector at 0x13c8032b0>"
     },
     "execution_count": 2,
     "metadata": {},
     "output_type": "execute_result"
    }
   ],
   "source": [
    "import glob\n",
    "import os\n",
    "import re\n",
    "\n",
    "import pandas as pd\n",
    "import spacy\n",
    "from lxml import etree\n",
    "from lxml.etree import XMLSyntaxError\n",
    "from spacy import Language\n",
    "from spacy_langdetect import LanguageDetector\n",
    "\n",
    "\n",
    "@Language.factory('language_detector')\n",
    "def language_detector(nlp, name):\n",
    "    return LanguageDetector()\n",
    "\n",
    "\n",
    "NLP = spacy.load('de_core_news_sm')\n",
    "NLP.add_pipe('language_detector')"
   ],
   "metadata": {
    "collapsed": false,
    "pycharm": {
     "name": "#%%\n"
    }
   }
  },
  {
   "cell_type": "code",
   "execution_count": null,
   "outputs": [],
   "source": [
    "NAMESPACE: dict = {'tei': 'http://www.tei-c.org/ns/1.0'}\n",
    "SAVINGS_PATH: str = '../data/plain-text/'\n",
    "\n",
    "if not os.path.exists(SAVINGS_PATH):\n",
    "    os.makedirs(SAVINGS_PATH)"
   ],
   "metadata": {
    "collapsed": false,
    "pycharm": {
     "name": "#%%\n"
    }
   }
  },
  {
   "cell_type": "code",
   "execution_count": 17,
   "outputs": [],
   "source": [
    "def get_letter_text(path: str ='../data/*.xml') -> None:\n",
    "    \"\"\"Function for extracting and cleaning text from the XML/TEI letter files.\n",
    "\n",
    "    :param path: File path given as string.\n",
    "    :return: None.\n",
    "    \"\"\"\n",
    "    for file in glob.glob(pathname=path)[:]:\n",
    "        try:\n",
    "            tree = etree.parse(file)\n",
    "\n",
    "            letter_output: str = \"\"\n",
    "\n",
    "            for text in tree.xpath('//tei:text//tei:body//text()', namespaces=NAMESPACE):\n",
    "                text = text.lower()\n",
    "                # Remove any expressions of type \"[HERE NUMBER]\" from the text.\n",
    "                if re.match(r'.*\\[.*].*', text):\n",
    "                    letter_output += re.sub(r'\\[.*]', '', text) + ' '\n",
    "                # Remove the given statements from the text as they are not needed for performing SA.\n",
    "                elif 'beyliegendes von' or 'paginierung des editors' in text:\n",
    "                    letter_output += re.sub(r'beyliegendes von|paginierung des editors', '', text) + ' '\n",
    "                # Remove any dates (except for dates in words, e.g. \"14. Februar 1833\").\n",
    "                else:\n",
    "                    letter_output += re.sub(r'^(0[1-9]|[12][0-9]|3[01])[.](0[1-9]|1[012])[.](19|20)[0-9]{2}', ' ',\n",
    "                                            text) + ' '\n",
    "\n",
    "            # Remove unnecessary whitespace and any further characters that are neither alphanumerical nor (singular) whitespace.\n",
    "            letter_output = re.sub('\\s{2,}', ' ', letter_output.lstrip())\n",
    "            letter_output = re.sub('[^\\w\\s\\d]|_', '', letter_output)\n",
    "\n",
    "            \"\"\"Using spaCy's available pipe for language detection to store only German letters. I also tried out to do this before preprocessing the texts but this lead to some major issues.\n",
    "            \"\"\"\n",
    "            doc = NLP(letter_output)\n",
    "            if doc._.language['language'] == 'de':\n",
    "                with open(SAVINGS_PATH + re.sub(r'\\.xml', '.txt', os.path.basename(file)), 'w') as f_tbw:\n",
    "                    f_tbw.write(letter_output)\n",
    "\n",
    "        except XMLSyntaxError:\n",
    "            pass\n",
    "\n"
   ],
   "metadata": {
    "collapsed": false,
    "pycharm": {
     "name": "#%%\n"
    }
   }
  },
  {
   "cell_type": "code",
   "execution_count": 18,
   "outputs": [],
   "source": [
    "get_letter_text()"
   ],
   "metadata": {
    "collapsed": false,
    "pycharm": {
     "name": "#%%\n"
    }
   }
  },
  {
   "cell_type": "code",
   "execution_count": 1,
   "outputs": [],
   "source": [
    "from textblob_de import TextBlobDE"
   ],
   "metadata": {
    "collapsed": false,
    "pycharm": {
     "name": "#%%\n"
    }
   }
  },
  {
   "cell_type": "code",
   "execution_count": 11,
   "outputs": [
    {
     "name": "stdout",
     "output_type": "stream",
     "text": [
      "genf d 1811 so eben erhalte ich ew wohlgeb v j wegen eines bücherpackets die exemplare vom 3ten b meiner vorlesungen und andre sachen enthaltend das packet ist noch nicht in die stadt hereingebracht u ich bin also von dessen inhalt nicht genau unterrichtet auf jeden fall ist es aber richtig und wohlbehalten eingetroffen den brief vom 6sten dec habe ich ebenfalls schon vor einiger zeit empfangen und danke ew w für die anweisung der summe von 225 rth an h hofsecretär ernst in dresden  gestern ist durch den sogenannten fourgon von hier aus durch die schweiz sorgfältig in wachsleinwand eingepackt der 2te band meiner gedichte abgegangen ich werde sogleich die materialien zum ersten bande auf demselben wege nachfolgen lassen da man um ein packet versichern zu lassen den werth desselben angeben muß habe ich 4 louis dʼor darauf gesetzt und gewiß würde der verdruß und die versicherung u so bitte ich sie es mir anzuschreiben ertheilen sie mir auch gefälligst nachricht sobald diese sendung in ihren händen ist alles ist in der besten ordnung und von genauen anweisungen für den setzer begleitet so daß ich auf die vollkommenste correctheit des druks rechne ich wünsche die aushängebogen baldigst nach coppet befördert zu erhalten das m mit vollkommenster hochachtung euer wohlgeb ergebenster a w schlegel in eile \n",
      "['genf', 'd', '1811', 'so', 'eben', 'erhalte', 'ich', 'ew', 'wohlgeb', 'v', 'j', 'wegen', 'ein', 'bücherpackets', 'die', 'exemplare', 'vom', '3ten', 'b', 'mein', 'vorlesungen', 'und', 'andre', 'sachen', 'enthaltend', 'das', 'packet', 'sein', 'noch', 'nicht', 'in', 'die', 'stadt', 'hereingebracht', 'u', 'ich', 'sein', 'also', 'von', 'dess', 'inhalt', 'nicht', 'genau', 'unterrichtet', 'auf', 'jed', 'fall', 'sein', 'es', 'aber', 'richtig', 'und', 'wohlbehalten', 'eingetroffen', 'den', 'brief', 'vom', '6sten', 'dec', 'haben', 'ich', 'ebenfalls', 'schon', 'vor', 'einig', 'zeit', 'empfangen', 'und', 'danke', 'ew', 'w', 'für', 'die', 'anweisung', 'der', 'summe', 'von', '225', 'rth', 'an', 'h', 'hofsecretär', 'ernst', 'in', 'dresden', 'gestern', 'sein', 'durch', 'den', 'sogenannt', 'fourgon', 'von', 'hier', 'aus', 'durch', 'die', 'schweiz', 'sorgfältig', 'in', 'wachsleinwand', 'eingepackt', 'der', '2te', 'binden', 'mein', 'gedichte', 'abgegangen', 'ich', 'werden', 'sogleich', 'die', 'materialien', 'zum', 'erst', 'bande', 'auf', 'demselben', 'wege', 'nachfolgen', 'lassen', 'da', 'man', 'um', 'ein', 'packet', 'versichern', 'zu', 'lassen', 'den', 'werth', 'desselben', 'angeben', 'mussen', 'haben', 'ich', '4', 'louis', 'dʼor', 'daraufen', 'setzen', 'und', 'gewiss', 'werden', 'der', 'verdruss', 'und', 'die', 'versicherung', 'u', 'soen', 'bitten', 'ich', 'sie', 'es', 'mir', 'anzuschreiben', 'ertheilen', 'sie', 'mir', 'auch', 'gefälligst', 'nachricht', 'sobald', 'die', 'sendung', 'in', 'ihren', 'händen', 'sein', 'all', 'sein', 'in', 'der', 'best', 'ordnung', 'und', 'von', 'genau', 'anweisungen', 'für', 'den', 'setzer', 'begleiten', 'so', 'dass', 'ich', 'auf', 'die', 'vollkommenste', 'correctheit', 'des', 'druks', 'rechne', 'ich', 'wünschen', 'die', 'aushängebogen', 'baldigst', 'nach', 'coppet', 'befördert', 'zu', 'erhalten', 'das', 'm', 'mit', 'vollkommenster', 'hochachtung', 'euer', 'wohlgeb', 'ergebenster', 'a', 'w', 'schlegel', 'in', 'eile']\n",
      "hier haben sie verehrtester college die neulich erwähnten verse besuchen sie mich doch zuweilen ich kann nur selten hinauskommen vollends bei dem jetzigen regenwetter sind dort die pontinischen sümpfe ich habe mitleiden mit meinem kutscher  der dann den nächsten tag vollauf zu thun wagen geschirr u pferde wieder abzuwaschen überdieß ist es ja sehr ungewiß zu welchen stunden man sie zu hause trifft schl sonnt vorm \n",
      "['hieren', 'haben', 'sie', 'verehrtester', 'college', 'die', 'neulich', 'erwähnen', 'verse', 'besuchen', 'sie', 'mich', 'doch', 'zuweilen', 'ich', 'können', 'nur', 'selten', 'hinauskomm', 'vollends', 'bei', 'dem', 'jetzig', 'regenwetter', 'sein', 'dort', 'die', 'pontinisch', 'sümpfe', 'ich', 'haben', 'mitleiden', 'mit', 'meinem', 'kutscher', 'der', 'dann', 'den', 'nächst', 'tag', 'vollauf', 'zu', 'thunen', 'wagen', 'geschirr', 'u', 'pferde', 'wiedern', 'abzuwaschen', 'überdiess', 'sein', 'es', 'ja', 'sehr', 'ungewiss', 'zu', 'welchen', 'stunden', 'man', 'sie', 'zu', 'hause', 'treffen', 'schl', 'sonnt', 'vorm']\n",
      "hochwohlgeborner hochzuverehrender herr kapellmeister einfügung von anderer schreiberhand indem wir uns beehren ew hochwohlgeb den anliegenden aufruf mitzutheilen richten wir zugleich vorzugsweise an sie die bitte sich der sache thätig annehmen zu wollen und zum besten des beabsichtigten monuments entweder in ihrer stadt eine musikalische aufführung zu veranlassen oder wenn dies die umstände nicht begünstigen sollten die einsammlung von privatbeiträgen gütigst zu übernehmen und anher einzusenden wir halten uns überzeugt daß ew hochwohlgeb das vertrauen welches wir in ihre bereitwilligkeit sowohl als ihre stellung hinsichtlich ihrer so ausgezeichneten berufsthätigkeit setzen zu dürfen glauben bestens entsprechen und uns bald mit einem willkommenen beitrag erfreuen werden im namen des vereins  a w von schlegel  bonn den 30 ten märz 1836 \n",
      "['hochwohlgeborn', 'hochzuverehrender', 'herr', 'kapellmeist', 'einfügung', 'von', 'and', 'schreiberhand', 'indem', 'wir', 'uns', 'beehren', 'ew', 'hochwohlgeb', 'den', 'anliegenden', 'aufruf', 'mitzutheilen', 'richten', 'wir', 'zugleich', 'vorzugsweise', 'an', 'sie', 'die', 'bitten', 'sich', 'der', 'sache', 'thätig', 'annehmen', 'zu', 'wollen', 'und', 'zum', 'besen', 'des', 'beabsichtigten', 'monuments', 'entweder', 'in', 'ihrer', 'stadt', 'ein', 'musikalisch', 'aufführung', 'zu', 'veranlassen', 'oder', 'wenn', 'die', 'die', 'umstände', 'nicht', 'begünstigen', 'sollten', 'die', 'einsammlung', 'von', 'privatbeiträgen', 'gütigst', 'zu', 'übernehmen', 'und', 'anher', 'einzusenden', 'wir', 'halten', 'uns', 'überzeugt', 'dass', 'ew', 'hochwohlgeb', 'das', 'vertrauen', 'welches', 'wir', 'in', 'ihre', 'bereitwilligkeit', 'sowohl', 'als', 'ihre', 'stellung', 'hinsichtlich', 'ihrer', 'so', 'ausgezeichneten', 'berufsthätigkeit', 'setz', 'zu', 'dürfen', 'glauben', 'bestens', 'entsprechen', 'und', 'uns', 'bald', 'mit', 'ein', 'willkomm', 'beitrag', 'erfreuen', 'werden', 'im', 'namen', 'des', 'vereins', 'a', 'w', 'von', 'schlegel', 'bonn', 'den', '30', 'ten', 'märz', '1836']\n",
      "liebster willhelm ich dancke dir sehr vor deinen langen brief er hat mir viel vergnügen gemacht es hat mich sehr gefreut daß es dir in dreßden so gut gegangen ist u daß du so viel beyfall gefunden hast gott gäbe nur daß der beyfall deiner persohn u schriften bald gute würckung hat melde mir ja alles was deine aussichten betrift jeder fortschritt ist mir freude u trost u auf meine verschwiegenheit kannst du dich verlaßen so wie auf carls seine lottchens umstände machen mir sorgen sie wird bei ihren jahren immer einen harten stand haben die große aengstlichkeit kann ihr auch schaden thun jettchen kränckelt viel ich thue bey beyden durch rath was ich kann wegen lottchen hatte ich mit der geschücktesten bademutter gesprochen u ihr das geschrieben welches sie auch etwas beruhiget hat caroline böhmer hat an mich geschrieben ehe sie noch wuste ob sich der brief u packet wieder gefunden hatte u ich habe ihr geantwortet so bald ich nach vieler mühe die sich carl gegeben hatte erfuhr daß das packet u brief wieder gefunden wären besonders des briefs wegen ist es mir sehr lieb daß es nicht verlohren gegangen ist es ist mir lieb daß du dich bey weißens angenehm gemacht hast sie haben lottchen immer große dienste geleistet carl u julchen befünden sich wohl u machen sich mit den garten viel spaß bey recketers ist alles an maßern kranck geweßen u die recke rn unsichere lesung ist bey nahe gestorben mit moritzen zieht es sich lange hin u ich mache mir manche sorge deßhalb zwar hat mir uhle gesagt es stoße sich daran daß sie an der schloßkürche noch nicht einig werden können der k wollte es solle wie sonst ein 2 ter hofpretiger seyn u nun weiß man nicht wohin mit hoppenstätten  der zum 2 ten hofpretiger u ins concistorio zu jung u zu sehr neuling ist u auf der andern seide viel erwartet u auch mächtige freunde hat zu beweiß nieper u ruthlof  wäre es nun hoppenstätes wunsch nach götting  so könnte es ja wohl eingeleidet werden daß es der k wollte nun ich will mich bemühen mir nicht ehre sorgen zu machen als es nöthig ist uhle sagte mir auf meine frage es bliebe alles wie es wäre schreib mir doch wie reichart rechart u cramer nach leipzig kommen ifland ist in hanover geweßen muß sich aber schlecht aufgeführt habe es sagte jemand er habe schlechte dinge mit soltaten vorgenommen u er habe sich weg begeben müßen wie ist es möglich so moralisch zu schreiben u so schlecht zu handeln gehe nun auch recht ins einzele mir deine lebens art in jäna zu beschreiben und sage mir ob es wohlfeil da zu leben ist meine gesundheit ist itzo gut ob ich schon etwas magerer werde ich glaube es kömmt vom vielen gehn wie ist fritze sein äußerliches itzo hat er mehr gefälliges bekommen bey nahe macht einen der krieg wieder sorge ist es mit deine buchhändler so zur richtigkeit gekommen wie du mir vor einiger zeit schriebst nehmlich auf einige jahre ein paar 100 r reichstaler zu verdienen mutter schlegel \n",
      "['liebst', 'willhelm', 'ich', 'dancken', 'dir', 'sehr', 'vor', 'deinen', 'lang', 'brief', 'er', 'haben', 'mir', 'viel', 'vergnügen', 'machen', 'es', 'haben', 'mich', 'sehr', 'freuen', 'dass', 'es', 'dir', 'in', 'dressden', 'so', 'gut', 'gehen', 'sein', 'u', 'dass', 'du', 'so', 'viel', 'beyfall', 'finden', 'hast', 'gott', 'gäbe', 'nuren', 'dass', 'der', 'beyfall', 'deiner', 'persohn', 'u', 'schriften', 'balden', 'gut', 'würckung', 'haben', 'melde', 'mir', 'ja', 'all', 'was', 'deine', 'aussichten', 'betrift', 'jed', 'fortschritt', 'sein', 'mir', 'freude', 'u', 'trost', 'u', 'auf', 'meinen', 'verschwiegenheit', 'können', 'du', 'dich', 'verlassen', 'so', 'wie', 'auf', 'carls', 'seine', 'lottchens', 'umstände', 'machen', 'mir', 'sorgen', 'sie', 'werden', 'bei', 'ihren', 'jahren', 'immer', 'ein', 'hart', 'stehen', 'haben', 'die', 'gross', 'aengstlichkeit', 'können', 'ihr', 'auch', 'schaden', 'thunen', 'jettch', 'kränckelt', 'viel', 'ich', 'thue', 'bey', 'beyden', 'durch', 'rath', 'was', 'ich', 'können', 'wegen', 'lottchen', 'haben', 'ich', 'mit', 'der', 'geschücktesten', 'bademutter', 'sprechen', 'u', 'ihr', 'das', 'schreiben', 'welch', 'sie', 'auch', 'etwas', 'beruhiget', 'haben', 'caroline', 'böhmer', 'haben', 'an', 'mich', 'schreiben', 'ehe', 'sie', 'noch', 'wuste', 'ob', 'sich', 'der', 'brief', 'u', 'packet', 'wiedern', 'finden', 'haben', 'u', 'ich', 'haben', 'ihr', 'geantwortet', 'so', 'bald', 'ich', 'nach', 'viel', 'mühe', 'die', 'sich', 'carl', 'geben', 'haben', 'erfahren', 'dass', 'das', 'packet', 'u', 'brief', 'wiedern', 'finden', 'sein', 'besonders', 'des', 'briefs', 'wegen', 'sein', 'es', 'mir', 'sehr', 'lieb', 'dass', 'es', 'nicht', 'verlohren', 'gehen', 'sein', 'es', 'sein', 'mir', 'lieb', 'dass', 'du', 'dich', 'bey', 'weissens', 'angenehm', 'machen', 'hast', 'sie', 'haben', 'lottchen', 'immer', 'gross', 'dienste', 'leisten', 'carl', 'u', 'julch', 'befünden', 'sich', 'wohl', 'u', 'machen', 'sich', 'mit', 'den', 'garten', 'viel', 'spass', 'bey', 'recketers', 'sein', 'all', 'an', 'massern', 'kranck', 'gewessen', 'u', 'die', 'recke', 'rn', 'unsich', 'lesung', 'sein', 'bey', 'nahe', 'gestorb', 'mit', 'moritzen', 'ziehen', 'es', 'sich', 'lange', 'hin', 'u', 'ich', 'mache', 'mir', 'manch', 'sorge', 'desshalb', 'zwaren', 'haben', 'mir', 'uhle', 'sagen', 'es', 'stossen', 'sich', 'daran', 'dass', 'sie', 'an', 'der', 'schlosskürche', 'noch', 'nicht', 'einig', 'werden', 'können', 'der', 'k', 'wollen', 'es', 'solle', 'wie', 'sonst', 'ein', '2', 'ter', 'hofpretiger', 'seyn', 'u', 'nun', 'weeissen', 'man', 'nicht', 'wohin', 'mit', 'hoppenstätten', 'der', 'zum', '2', 'ten', 'hofpretiger', 'u', 'ins', 'concistorio', 'zu', 'jung', 'u', 'zu', 'sehr', 'neuling', 'sein', 'u', 'auf', 'der', 'andern', 'seide', 'viel', 'erwarten', 'u', 'auch', 'mächtige', 'freunde', 'haben', 'zu', 'beweiss', 'nieper', 'u', 'ruthlof', 'sein', 'es', 'nun', 'hoppenstät', 'wunsch', 'nach', 'götting', 'so', 'können', 'es', 'ja', 'wohl', 'eingeleidet', 'werden', 'dass', 'es', 'der', 'k', 'wollen', 'nun', 'ich', 'wollen', 'mich', 'bemühen', 'mir', 'nicht', 'ehre', 'sorg', 'zu', 'machen', 'als', 'es', 'nöthig', 'sein', 'uhle', 'sagen', 'mir', 'auf', 'meinen', 'frage', 'es', 'bliebe', 'all', 'wie', 'es', 'wär', 'schreib', 'mir', 'doch', 'wie', 'reichart', 'rechart', 'u', 'cramer', 'nach', 'leipzig', 'kommen', 'ifland', 'sein', 'in', 'hanover', 'gewessen', 'mussen', 'sich', 'aber', 'schlecht', 'aufführen', 'haben', 'es', 'sagen', 'jemand', 'er', 'haben', 'schlecht', 'dinge', 'mit', 'soltaten', 'vornehmen', 'u', 'er', 'haben', 'sich', 'weg', 'begeben', 'müssen', 'wie', 'ist', 'es', 'möglich', 'so', 'moralisch', 'zu', 'schreiben', 'u', 'so', 'schlecht', 'zu', 'handeln', 'gehe', 'nun', 'auch', 'rechen', 'ins', 'einzele', 'mir', 'deine', 'lebens', 'art', 'in', 'jäna', 'zu', 'beschreiben', 'und', 'sagen', 'mir', 'ob', 'es', 'wohlfeil', 'da', 'zu', 'leben', 'sein', 'meine', 'gesundheit', 'sein', 'itzo', 'gut', 'ob', 'ich', 'schon', 'etwas', 'magerern', 'werden', 'ich', 'glauben', 'es', 'kömmen', 'vom', 'viel', 'gehn', 'wie', 'ist', 'fritze', 'sein', 'äusserlich', 'itzo', 'haben', 'er', 'mehr', 'gefälliges', 'bekommen', 'bey', 'nahe', 'machen', 'ein', 'der', 'krieg', 'wieder', 'sorge', 'sein', 'es', 'mit', 'deine', 'buchhändler', 'so', 'zur', 'richtigkeit', 'kommen', 'wie', 'du', 'mir', 'vor', 'einig', 'zeit', 'schriebst', 'nehmlich', 'auf', 'einig', 'jahre', 'ein', 'paar', '100', 'r', 'reichstaler', 'zu', 'verdienen', 'mutt', 'schlegel']\n",
      "                 polarity  subjectivity\n",
      "filename                               \n",
      "AWS-aw-01mf.txt  0.850000          0.00\n",
      "AWS-aw-018m.txt  0.700000          0.00\n",
      "AWS-aw-019i.txt  1.000000          0.00\n",
      "AWS-aw-03tf.txt  0.167857          0.25\n"
     ]
    }
   ],
   "source": [
    "sentiment_dict: dict = {}\n",
    "\n",
    "for file in glob.glob('../data/plain-text/*.txt')[:4]:\n",
    "    with open(file, 'r') as f:\n",
    "        text = f.read()\n",
    "        letter_blob = TextBlobDE(text)\n",
    "        #letter_blob = TextBlobDE(' '.join(letter_blob.words.lemmatize()))\n",
    "        #print(letter_blob.words.lemmatize())\n",
    "        sentiment_dict[os.path.basename(file)] = letter_blob.sentiment\n",
    "\n",
    "s_df = pd.DataFrame.from_dict(sentiment_dict).transpose()\n",
    "s_df.index.names = ['filename']\n",
    "s_df.rename(columns={0: 'polarity', 1: 'subjectivity'}, inplace=True)\n",
    "print(s_df)\n",
    "#s_df.to_csv('../data/retrieved/sentiments.csv')\n"
   ],
   "metadata": {
    "collapsed": false,
    "pycharm": {
     "name": "#%%\n"
    }
   }
  },
  {
   "cell_type": "code",
   "execution_count": 71,
   "outputs": [],
   "source": [],
   "metadata": {
    "collapsed": false,
    "pycharm": {
     "name": "#%%\n"
    }
   }
  },
  {
   "cell_type": "code",
   "execution_count": null,
   "outputs": [],
   "source": [],
   "metadata": {
    "collapsed": false,
    "pycharm": {
     "name": "#%%\n"
    }
   }
  }
 ],
 "metadata": {
  "kernelspec": {
   "display_name": "Python 3",
   "language": "python",
   "name": "python3"
  },
  "language_info": {
   "codemirror_mode": {
    "name": "ipython",
    "version": 2
   },
   "file_extension": ".py",
   "mimetype": "text/x-python",
   "name": "python",
   "nbconvert_exporter": "python",
   "pygments_lexer": "ipython2",
   "version": "2.7.6"
  }
 },
 "nbformat": 4,
 "nbformat_minor": 0
}