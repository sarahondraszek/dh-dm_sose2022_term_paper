{
 "cells": [
  {
   "cell_type": "code",
   "execution_count": 12,
   "outputs": [],
   "source": [
    "import glob\n",
    "import pprint\n",
    "import re\n",
    "import os\n",
    "\n",
    "import lxml.etree\n",
    "from lxml import etree\n",
    "from lxml.etree import XMLSyntaxError\n",
    "import pandas as pd\n",
    "import numpy as np"
   ],
   "metadata": {
    "collapsed": false,
    "pycharm": {
     "name": "#%%\n"
    }
   }
  },
  {
   "cell_type": "code",
   "execution_count": 232,
   "outputs": [],
   "source": [
    "NAMESPACE: dict = {'tei': 'http://www.tei-c.org/ns/1.0'}\n",
    "SAVINGS_PATH: str = '../data/plain-text/'"
   ],
   "metadata": {
    "collapsed": false,
    "pycharm": {
     "name": "#%%\n"
    }
   }
  },
  {
   "cell_type": "code",
   "execution_count": 235,
   "outputs": [],
   "source": [
    "def get_letter_text(path='../data/*.xml'):\n",
    "\n",
    "    for file in glob.glob(pathname=path)[:5]:\n",
    "        try:\n",
    "            tree = etree.parse(file)\n",
    "\n",
    "            letter_output: str = \"\"\n",
    "\n",
    "            for text in tree.xpath('//tei:text//tei:body//text()', namespaces=NAMESPACE):\n",
    "                text = text.lower()\n",
    "                if re.match(r'.*\\[.*].*', text):\n",
    "                    letter_output += re.sub(r'\\[.*]', '', text) + ' '\n",
    "                elif 'beyliegendes von' or 'paginierung des editors' in text:\n",
    "                    letter_output += re.sub(r'beyliegendes von|paginierung des editors', '', text) + ' '\n",
    "                else:\n",
    "                    letter_output += re.sub(r'^(0[1-9]|[12][0-9]|3[01])[.](0[1-9]|1[012])[.](19|20)[0-9]{2}', ' ', text) + ' '\n",
    "\n",
    "            letter_output = re.sub('\\s{2,}', ' ', letter_output.lstrip())\n",
    "            letter_output = re.sub('[^\\w\\s\\d]|_', '', letter_output)\n",
    "\n",
    "            if not os.path.exists(SAVINGS_PATH):\n",
    "                os.makedirs(SAVINGS_PATH)\n",
    "\n",
    "            with open(SAVINGS_PATH + re.sub(r'\\.xml', '.txt', os.path.basename(file)), 'w') as f_tbw:\n",
    "                f_tbw.write(letter_output)\n",
    "\n",
    "        except XMLSyntaxError:\n",
    "            pass\n",
    "\n"
   ],
   "metadata": {
    "collapsed": false,
    "pycharm": {
     "name": "#%%\n"
    }
   }
  },
  {
   "cell_type": "code",
   "execution_count": 236,
   "outputs": [],
   "source": [
    "get_letter_text()"
   ],
   "metadata": {
    "collapsed": false,
    "pycharm": {
     "name": "#%%\n"
    }
   }
  },
  {
   "cell_type": "code",
   "execution_count": 216,
   "outputs": [],
   "source": [
    "from germansentiment import SentimentModel"
   ],
   "metadata": {
    "collapsed": false,
    "pycharm": {
     "name": "#%%\n"
    }
   }
  },
  {
   "cell_type": "code",
   "execution_count": 218,
   "outputs": [
    {
     "name": "stdout",
     "output_type": "stream",
     "text": [
      "['neutral']\n"
     ]
    }
   ],
   "source": [
    "model = SentimentModel()\n",
    "\n",
    "texts = [\n",
    "    \"münchen 24 jun 11 he docen ist schon 8 tage in meinen händen in der hoffnung es mit einem ausführlichen brief zu begleiten habe ich es zurückgehalten da aber mancherley geschäfte in denen ich stecke mich auch ferner daran verhindern könnten so lasse ich es mit diesen wenigen zeilen abgehen es war mir sehr erwünscht daß sie sich wegen ihrer poetischen werke mit dem heidelbergschen verleger wieder arrangirt haben die antwort des nürnbergischen lege ich bey lassen sie ja das publikum und ihre freunde nicht zu lange auf das werk über die nibelungen warten  wegen tieck kann ich ihnen jetzt nichts weiteres schreiben ehʼ ich gewiß bin daß er in italien ist könnte ich mich auf keinen fall mit ihm einlassen übrigens lasse ich ihnen gern ihre meynung von ihm ohne deßhalb die meinige aufzugeben welche die einstimmige aller ist die ihn und die familie kennen gelernt haben leben sie recht wohl und lassen sie mich die kürze und leerheit dieser zeilen nicht entgelten ihr schelling.\"]\n",
    "\n",
    "result = model.predict_sentiment(texts)\n",
    "\n",
    "print(result)"
   ],
   "metadata": {
    "collapsed": false,
    "pycharm": {
     "name": "#%%\n"
    }
   }
  },
  {
   "cell_type": "code",
   "execution_count": null,
   "outputs": [],
   "source": [],
   "metadata": {
    "collapsed": false,
    "pycharm": {
     "name": "#%%\n"
    }
   }
  }
 ],
 "metadata": {
  "kernelspec": {
   "display_name": "Python 3",
   "language": "python",
   "name": "python3"
  },
  "language_info": {
   "codemirror_mode": {
    "name": "ipython",
    "version": 2
   },
   "file_extension": ".py",
   "mimetype": "text/x-python",
   "name": "python",
   "nbconvert_exporter": "python",
   "pygments_lexer": "ipython2",
   "version": "2.7.6"
  }
 },
 "nbformat": 4,
 "nbformat_minor": 0
}