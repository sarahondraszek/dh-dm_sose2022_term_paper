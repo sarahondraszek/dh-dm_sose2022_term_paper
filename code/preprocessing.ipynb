{
 "cells": [
  {
   "cell_type": "code",
   "execution_count": 93,
   "outputs": [],
   "source": [
    "import glob\n",
    "import os.path\n",
    "\n",
    "from lxml import etree\n",
    "from lxml.etree import XMLSyntaxError"
   ],
   "metadata": {
    "collapsed": false,
    "pycharm": {
     "name": "#%%\n"
    }
   }
  },
  {
   "cell_type": "code",
   "execution_count": 94,
   "outputs": [],
   "source": [
    "PATH: str = '../data/'\n",
    "FILES: str = '*.xml'\n",
    "NAMESPACE: dict = {'tei': 'http://www.tei-c.org/ns/1.0'}"
   ],
   "metadata": {
    "collapsed": false,
    "pycharm": {
     "name": "#%%\n"
    }
   }
  },
  {
   "cell_type": "code",
   "execution_count": 97,
   "outputs": [],
   "source": [
    "def extract_metadata(file_path: str = PATH + FILES) -> None:\n",
    "    \"\"\"Function for retrieving the needed metadata from the XML/TEI files.\"\"\"\n",
    "    correspondences: dict = {}\n",
    "    try:\n",
    "        for file in glob.glob(file_path):\n",
    "            print(f\"Working on {os.path.basename(file)}\")\n",
    "            tree = etree.parse(file)\n",
    "            root = tree.getroot()\n",
    "\n",
    "            sender: str\n",
    "            receiver: str\n",
    "\n",
    "            for elem in root.findall('./tei:teiHeader//tei:correspAction[@type=\"sent\"]//tei:persName',\n",
    "                                     NAMESPACE\n",
    "                                     ):\n",
    "\n",
    "                sender = elem.text\n",
    "                print(f\"Sender: {sender}\")\n",
    "            for elem in root.findall('./tei:teiHeader//tei:correspAction[@type=\"received\"]//tei:persName',\n",
    "                                     NAMESPACE\n",
    "                                     ):\n",
    "                receiver = elem.text\n",
    "                print(f\"Receiver: {receiver}\")\n",
    "\n",
    "\n",
    "    except XMLSyntaxError:\n",
    "        print(f\"There has been a syntax error in {file}.\")\n",
    "        pass\n",
    "\n",
    "\n",
    "    print(correspondences)\n",
    "\n",
    "\n"
   ],
   "metadata": {
    "collapsed": false,
    "pycharm": {
     "name": "#%%\n"
    }
   }
  },
  {
   "cell_type": "code",
   "execution_count": 98,
   "outputs": [
    {
     "name": "stdout",
     "output_type": "stream",
     "text": [
      "Working on AWS-aw-05dx.xml\n",
      "Sender: Louise Rosalie de Sinclair\n",
      "Receiver: August Wilhelm von Schlegel\n",
      "Working on AWS-aw-027u.xml\n",
      "Sender: Johann Wolfgang von Goethe\n",
      "Receiver: August Wilhelm von Schlegel\n",
      "Working on AWS-aw-024n.xml\n",
      "Sender: Friedrich Schleiermacher\n",
      "Receiver: August Wilhelm von Schlegel\n",
      "Working on AWS-aw-0512.xml\n",
      "Sender: August Wilhelm von Schlegel\n",
      "Receiver: Auguste Luise Adolfine von Flotow\n",
      "Working on AWS-aw-02ae.xml\n",
      "Sender: Jonathan Birch\n",
      "Receiver: August Wilhelm von Schlegel\n",
      "Working on AWS-aw-051s.xml\n",
      "Sender: August Wilhelm von Schlegel\n",
      "Receiver: Auguste Luise Adolfine von Flotow\n",
      "Working on AWS-aw-00ya.xml\n",
      "Sender: Ludwig Tieck\n",
      "Receiver: August Wilhelm von Schlegel\n",
      "Working on AWS-aw-0506.xml\n",
      "Sender: August Wilhelm von Schlegel\n",
      "Receiver: Karl B. Hase\n",
      "Working on AWS-aw-053l.xml\n",
      "Sender: August Wilhelm von Schlegel\n",
      "Receiver: Unbekannt\n",
      "Working on AWS-aw-050w.xml\n",
      "Sender: August Wilhelm von Schlegel\n",
      "Receiver: Auguste Luise Adolfine von Flotow\n",
      "Working on AWS-aw-00xe.xml\n",
      "Sender: Ludwig Tieck\n",
      "Receiver: August Wilhelm von Schlegel\n",
      "Working on AWS-aw-02cz.xml\n",
      "Sender: Alexander von Humboldt\n",
      "Receiver: August Wilhelm von Schlegel\n",
      "Working on AWS-aw-025j.xml\n",
      "Sender: Friedrich Schleiermacher\n",
      "Receiver: August Wilhelm von Schlegel\n",
      "Working on AWS-aw-0260.xml\n",
      "Sender: Friedrich Schleiermacher\n",
      "Receiver: August Wilhelm von Schlegel\n",
      "Working on AWS-aw-024y.xml\n",
      "Sender: August Wilhelm von Schlegel\n",
      "Sender: Friedrich von Schlegel\n",
      "Receiver: Friedrich Schleiermacher\n",
      "Working on AWS-aw-05g5.xml\n",
      "Sender: August Wilhelm von Schlegel\n",
      "Receiver: Eduard Böcking\n",
      "Working on AWS-aw-05do.xml\n",
      "Sender: August Böckh\n",
      "Sender: Akademischer Ausschuß zur Herausgabe der Werke Friedrich des Großen in Berlin\n",
      "Receiver: August Wilhelm von Schlegel\n",
      "Working on AWS-aw-0248.xml\n",
      "Sender: August Ludwig Hülsen\n",
      "Receiver: August Wilhelm von Schlegel\n",
      "Working on AWS-aw-027b.xml\n",
      "Sender: Johann Wolfgang von Goethe\n",
      "Receiver: August Wilhelm von Schlegel\n",
      "Working on AWS-aw-00yv.xml\n",
      "Sender: Christian Friedrich Tieck\n",
      "Receiver: August Wilhelm von Schlegel\n",
      "Working on AWS-aw-051d.xml\n",
      "Sender: August Wilhelm von Schlegel\n",
      "Receiver: Auguste Luise Adolfine von Flotow\n",
      "Working on AWS-aw-02bi.xml\n",
      "Sender: William Richard Hamilton\n",
      "Sender: Royal Society of Literature of the United Kingdom\n",
      "Receiver: August Wilhelm von Schlegel\n",
      "Working on AWS-aw-02a3.xml\n",
      "Sender: August Wilhelm von Schlegel\n",
      "Receiver: Johann Wolfgang von Goethe\n",
      "Working on AWS-aw-00y7.xml\n",
      "Sender: August Wilhelm von Schlegel\n",
      "Receiver: Ludwig Tieck\n",
      "Working on AWS-aw-00xr.xml\n",
      "Sender: Ludwig Tieck\n",
      "Receiver: August Wilhelm von Schlegel\n",
      "Receiver: Sophie Bernhardi\n",
      "Working on AWS-aw-02cm.xml\n",
      "Sender: Richard H. Horne\n",
      "Receiver: August Wilhelm von Schlegel\n",
      "Working on AWS-aw-00x3.xml\n",
      "Sender: August Wilhelm von Schlegel\n",
      "Receiver: Ludwig Tieck\n",
      "Working on AWS-aw-028m.xml\n",
      "Sender: August Wilhelm von Schlegel\n",
      "Receiver: Johann Wolfgang von Goethe\n",
      "Working on AWS-aw-00ub.xml\n",
      "Sender: August Böckh\n",
      "Receiver: August Wilhelm von Schlegel\n",
      "Working on AWS-aw-00v8.xml\n",
      "Sender: August Wilhelm von Schlegel\n",
      "Receiver: Johannes Schulze\n",
      "Working on AWS-aw-00vy.xml\n",
      "Sender: August Wilhelm von Schlegel\n",
      "Receiver: August Böckh\n",
      "Working on AWS-aw-00tf.xml\n",
      "Sender: August Wilhelm von Schlegel\n",
      "Receiver: Jacob Grimm\n",
      "Working on AWS-aw-02oy.xml\n",
      "Sender: Amalie Wolper\n",
      "Receiver: August Wilhelm von Schlegel\n",
      "Working on AWS-aw-029i.xml\n",
      "Sender: August Wilhelm von Schlegel\n",
      "Receiver: Johann Wolfgang von Goethe\n",
      "Working on AWS-aw-05hl.xml\n",
      "Sender: August Wilhelm von Schlegel\n",
      "Receiver: Eugène Burnouf\n",
      "Working on AWS-aw-05kw.xml\n",
      "Sender: Unbekannt\n",
      "Receiver: August Wilhelm von Schlegel\n",
      "Working on AWS-aw-028z.xml\n",
      "Sender: August Wilhelm von Schlegel\n",
      "Receiver: Johann Wolfgang von Goethe\n",
      "Working on AWS-aw-00vn.xml\n",
      "Sender: August Wilhelm von Schlegel\n",
      "Receiver: August Böckh\n",
      "Working on AWS-aw-00u4.xml\n",
      "Sender: August Wilhelm von Schlegel\n",
      "Receiver: Jacob Grimm\n",
      "Working on AWS-aw-00uu.xml\n",
      "Sender: August Böckh\n",
      "Receiver: August Wilhelm von Schlegel\n",
      "Working on AWS-aw-00t0.xml\n",
      "Sender: Friedrich Gottlieb Welcker\n",
      "Receiver: August Wilhelm von Schlegel\n",
      "Working on AWS-aw-00wj.xml\n",
      "Sender: Ludwig Tieck\n",
      "Receiver: August Wilhelm von Schlegel\n",
      "Working on AWS-aw-00tq.xml\n",
      "Sender: Leopold August Wilhelm Dorotheus von Henning\n",
      "Sender: Societät für Wissenschaftliche Kritik zu Berlin\n",
      "Receiver: August Wilhelm von Schlegel\n",
      "Working on AWS-aw-02l4.xml\n",
      "Sender: Karl August Moritz Schlegel\n",
      "Receiver: August Wilhelm von Schlegel\n",
      "Working on AWS-aw-02on.xml\n",
      "There has been a syntax error in ../data/AWS-aw-02on.xml.\n",
      "{'Louise Rosalie de Sinclair': 'August Wilhelm von Schlegel', 'Johann Wolfgang von Goethe': 'August Wilhelm von Schlegel', 'Friedrich Schleiermacher': 'August Wilhelm von Schlegel', 'August Wilhelm von Schlegel': 'Jacob Grimm', 'Jonathan Birch': 'August Wilhelm von Schlegel', 'Ludwig Tieck': 'August Wilhelm von Schlegel', 'Alexander von Humboldt': 'August Wilhelm von Schlegel', 'Friedrich von Schlegel': 'Friedrich Schleiermacher', 'Akademischer Ausschuß zur Herausgabe der Werke Friedrich des Großen in Berlin': 'August Wilhelm von Schlegel', 'August Ludwig Hülsen': 'August Wilhelm von Schlegel', 'Christian Friedrich Tieck': 'August Wilhelm von Schlegel', 'Royal Society of Literature of the United Kingdom': 'August Wilhelm von Schlegel', 'Richard H. Horne': 'August Wilhelm von Schlegel', 'August Böckh': 'August Wilhelm von Schlegel', 'Amalie Wolper': 'August Wilhelm von Schlegel', 'Unbekannt': 'August Wilhelm von Schlegel', 'Friedrich Gottlieb Welcker': 'August Wilhelm von Schlegel', 'Societät für Wissenschaftliche Kritik zu Berlin': 'August Wilhelm von Schlegel', 'Karl August Moritz Schlegel': 'August Wilhelm von Schlegel'}\n"
     ]
    }
   ],
   "source": [
    "extract_metadata()"
   ],
   "metadata": {
    "collapsed": false,
    "pycharm": {
     "name": "#%%\n"
    }
   }
  },
  {
   "cell_type": "code",
   "execution_count": 98,
   "outputs": [],
   "source": [],
   "metadata": {
    "collapsed": false,
    "pycharm": {
     "name": "#%%\n"
    }
   }
  },
  {
   "cell_type": "code",
   "execution_count": null,
   "outputs": [],
   "source": [],
   "metadata": {
    "collapsed": false,
    "pycharm": {
     "name": "#%%\n"
    }
   }
  }
 ],
 "metadata": {
  "kernelspec": {
   "display_name": "Python 3",
   "language": "python",
   "name": "python3"
  },
  "language_info": {
   "codemirror_mode": {
    "name": "ipython",
    "version": 2
   },
   "file_extension": ".py",
   "mimetype": "text/x-python",
   "name": "python",
   "nbconvert_exporter": "python",
   "pygments_lexer": "ipython2",
   "version": "2.7.6"
  }
 },
 "nbformat": 4,
 "nbformat_minor": 0
}