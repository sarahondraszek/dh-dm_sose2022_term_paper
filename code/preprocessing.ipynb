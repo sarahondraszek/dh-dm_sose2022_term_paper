{
 "cells": [
  {
   "cell_type": "code",
   "execution_count": 73,
   "outputs": [],
   "source": [
    "import glob\n",
    "import pprint\n",
    "import re\n",
    "import os\n",
    "\n",
    "from lxml import etree\n",
    "from lxml.etree import XMLSyntaxError\n",
    "import pandas as pd\n",
    "import numpy as np\n"
   ],
   "metadata": {
    "collapsed": false,
    "pycharm": {
     "name": "#%%\n"
    }
   }
  },
  {
   "cell_type": "code",
   "execution_count": 74,
   "outputs": [],
   "source": [
    "PATH: str = '../data/'\n",
    "FILES: str = '*.xml'\n",
    "NAMESPACE: dict = {'tei': 'http://www.tei-c.org/ns/1.0'}"
   ],
   "metadata": {
    "collapsed": false,
    "pycharm": {
     "name": "#%%\n"
    }
   }
  },
  {
   "cell_type": "code",
   "execution_count": 75,
   "outputs": [],
   "source": [
    "def extract_metadata(file_path: str = PATH + FILES) -> (dict, dict):\n",
    "    \"\"\"Function for retrieving the needed metadata from the XML/TEI files.\"\"\"\n",
    "    person_information: dict = {}\n",
    "    correspondences: dict = {}\n",
    "\n",
    "    for file in glob.glob(file_path)[:2000]:\n",
    "        try:\n",
    "            # print(f\"Working on {os.path.basename(file)}\")\n",
    "            tree = etree.parse(file)\n",
    "            root = tree.getroot()\n",
    "\n",
    "            sender_ref: str = \"\"\n",
    "            receiver_ref: str = \"\"\n",
    "            gnd_regex: str = 'http://d-nb.info/gnd/'\n",
    "\n",
    "            for elem in root.findall('./tei:teiHeader//tei:correspAction[@type=\"sent\"]//tei:persName',\n",
    "                                     NAMESPACE\n",
    "                                     ):\n",
    "\n",
    "                # Building the reference list for all persons existing in the corpus.\n",
    "                sender_ref = (re.sub(gnd_regex,\n",
    "                                     '',\n",
    "                                     str(elem.get('ref')),\n",
    "                                     ).strip()\n",
    "                              )\n",
    "\n",
    "                if not sender_ref in person_information.keys():\n",
    "                    person_information[sender_ref] = {'name': elem.text,\n",
    "                                                      'key': elem.get('key')\n",
    "                                                      }\n",
    "\n",
    "                \"\"\"Adding sender to correspondences. At the beginning, the correspondence list will be empty and the first sender can be added. After that, they will only be added if their GND-key is not already in the correspondence list.\n",
    "                \"\"\"\n",
    "                if not correspondences:\n",
    "                    correspondences[sender_ref] = {}\n",
    "                else:\n",
    "                    if sender_ref not in correspondences.keys():\n",
    "                        correspondences[sender_ref] = {}\n",
    "                    else:\n",
    "                        continue\n",
    "\n",
    "\n",
    "            for elem in root.findall('./tei:teiHeader//tei:correspAction[@type=\"received\"]//tei:persName',\n",
    "                                     NAMESPACE\n",
    "                                     ):\n",
    "                receiver_ref = (re.sub(gnd_regex,\n",
    "                                       '',\n",
    "                                       str(elem.get('ref'))\n",
    "                                       ).strip()\n",
    "                                )\n",
    "\n",
    "\n",
    "            \"\"\"Adding receivers to the list. This means that each person who sent a letter to someone will have that 'receiver' stored in a dictionary with the frequency of correspondance.\n",
    "            \"\"\"\n",
    "            try:\n",
    "                if not correspondences[sender_ref] or (correspondences[sender_ref] and receiver_ref not in correspondences[sender_ref].keys()):\n",
    "\n",
    "                    correspondences[sender_ref][receiver_ref] = 1\n",
    "                elif correspondences[sender_ref] and receiver_ref in correspondences[sender_ref].keys():\n",
    "                    correspondences[sender_ref][receiver_ref] += 1\n",
    "            except KeyError:\n",
    "                # Entries with missing gnd-entries will be ignored as they can not be properly addressed.\n",
    "                continue\n",
    "\n",
    "\n",
    "\n",
    "        except XMLSyntaxError:\n",
    "            # If there is a syntax error in the file, it will be ignored in the preprocessing.\n",
    "            print(f\"There has been a syntax error in {file}.\")\n",
    "            continue\n",
    "\n",
    "    # Checking if the result is actually a set of only unique gnd-keys.\n",
    "    # pprint.pprint(person_information.keys() == set(person_information.keys()))\n",
    "    return correspondences, person_information\n",
    "\n",
    "\n"
   ],
   "metadata": {
    "collapsed": false,
    "pycharm": {
     "name": "#%%\n"
    }
   }
  },
  {
   "cell_type": "code",
   "execution_count": 78,
   "outputs": [
    {
     "name": "stdout",
     "output_type": "stream",
     "text": [
      "There has been a syntax error in ../data/AWS-aw-02on.xml.\n",
      "There has been a syntax error in ../data/AWS-aw-05q8.xml.\n",
      "There has been a syntax error in ../data/AWS-aw-0317.xml.\n",
      "There has been a syntax error in ../data/AWS-aw-05di.xml.\n",
      "There has been a syntax error in ../data/AWS-aw-02wy.xml.\n",
      "There has been a syntax error in ../data/AWS-aw-02le.xml.\n",
      "There has been a syntax error in ../data/AWS-aw-031g.xml.\n",
      "There has been a syntax error in ../data/AWS-aw-05x5.xml.\n",
      "118607960 August Wilhelm von Schlegel\n",
      "118607987 Friedrich von Schlegel\n",
      "117320536 Karl August Moritz Schlegel\n",
      "100799434 Johann Carl Fürchtegott Schlegel\n",
      "1019578068 Johanna Christiane Erdmuthe Schlegel\n",
      "1019580852 Julie Schlegel\n",
      "117321435 Sophie von Schlegel\n",
      "118607995 Johann Adolf Schlegel\n",
      "139545530 Karl August Schlegel\n",
      "1019576790 Charlotte Schlegel\n",
      "104066490 Johan F. W. Schlegel\n",
      "138154856 Johann August Adolph Schlegel\n"
     ]
    }
   ],
   "source": [
    "correspondences, person_information = extract_metadata()\n",
    "\n",
    "for gnd_key in correspondences:\n",
    "    if 'Schlegel' in person_information[gnd_key].get('name'):\n",
    "        print(gnd_key, person_information[gnd_key].get('name'))"
   ],
   "metadata": {
    "collapsed": false,
    "pycharm": {
     "name": "#%%\n"
    }
   }
  },
  {
   "cell_type": "code",
   "execution_count": 76,
   "outputs": [],
   "source": [],
   "metadata": {
    "collapsed": false,
    "pycharm": {
     "name": "#%%\n"
    }
   }
  },
  {
   "cell_type": "code",
   "execution_count": 76,
   "outputs": [],
   "source": [],
   "metadata": {
    "collapsed": false,
    "pycharm": {
     "name": "#%%\n"
    }
   }
  },
  {
   "cell_type": "code",
   "execution_count": 76,
   "outputs": [],
   "source": [],
   "metadata": {
    "collapsed": false,
    "pycharm": {
     "name": "#%%\n"
    }
   }
  }
 ],
 "metadata": {
  "kernelspec": {
   "display_name": "Python 3",
   "language": "python",
   "name": "python3"
  },
  "language_info": {
   "codemirror_mode": {
    "name": "ipython",
    "version": 2
   },
   "file_extension": ".py",
   "mimetype": "text/x-python",
   "name": "python",
   "nbconvert_exporter": "python",
   "pygments_lexer": "ipython2",
   "version": "2.7.6"
  }
 },
 "nbformat": 4,
 "nbformat_minor": 0
}